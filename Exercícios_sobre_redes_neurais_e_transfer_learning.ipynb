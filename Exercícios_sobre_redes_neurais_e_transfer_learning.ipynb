{
  "nbformat": 4,
  "nbformat_minor": 0,
  "metadata": {
    "colab": {
      "provenance": []
    },
    "kernelspec": {
      "name": "python3",
      "display_name": "Python 3"
    },
    "language_info": {
      "name": "python"
    }
  },
  "cells": [
    {
      "cell_type": "code",
      "execution_count": null,
      "metadata": {
        "id": "VaR7Z7eB_9AO"
      },
      "outputs": [],
      "source": [
        "#Projeto de Transfer Learning com Gatos e Cachorros\n",
        "\n",
        "Notebook para classificar imagens de gatos e cachorros usando um modelo pré-treinado."
      ]
    },
    {
      "cell_type": "code",
      "source": [
        "import tensorflow as tf\n",
        "import tensorflow_datasets as tfds\n",
        "import matplotlib.pyplot as plt\n",
        "\n",
        "#Tamanho e lote\n",
        "IMG_SIZE = 160\n",
        "BATCH_SIZE = 32"
      ],
      "metadata": {
        "id": "VKXQetCcAJZJ"
      },
      "execution_count": null,
      "outputs": []
    },
    {
      "cell_type": "code",
      "source": [
        "#Dataset: treino e validação (80% / 20%)\n",
        "(train_data_raw, val_data_raw), metadata = tfds.load(\n",
        "    'cats_vs_dogs',\n",
        "    split=['train[:80%]', 'train[80%:]'],\n",
        "    with_info=True,\n",
        "    as_supervised=True,\n",
        ")"
      ],
      "metadata": {
        "id": "hDz8ULoLAKSS"
      },
      "execution_count": null,
      "outputs": []
    },
    {
      "cell_type": "code",
      "source": [
        "#Formatação\n",
        "def format_image(image, label):\n",
        "  image = tf.cast(image, tf.float32)\n",
        "  image = (image / 127.5) - 1  #Pixels [-1, 1]\n",
        "  image = tf.image.resize(image, (IMG_SIZE, IMG_SIZE))\n",
        "  return image, label\n",
        "\n",
        "#Aplicação nos dados\n",
        "train_data = train_data_raw.map(format_image)\n",
        "val_data = val_data_raw.map(format_image)\n",
        "\n",
        "#Lotes\n",
        "train_batches = train_data.shuffle(1000).batch(BATCH_SIZE)\n",
        "val_batches = val_data.batch(BATCH_SIZE)\n",
        "\n",
        "print(\"Dados preparados.\")"
      ],
      "metadata": {
        "id": "pnaWBfjuALC5"
      },
      "execution_count": null,
      "outputs": []
    },
    {
      "cell_type": "code",
      "source": [
        "#Modelo-base MobileNetV2, sem camada de classificação final\n",
        "base_model = tf.keras.applications.MobileNetV2(input_shape=(IMG_SIZE, IMG_SIZE, 3),\n",
        "                                               include_top=False,\n",
        "                                               weights='imagenet')\n",
        "\n",
        "#Impede que o modelo base treine seus pesos\n",
        "base_model.trainable = False\n",
        "\n",
        "#Modelo final\n",
        "model = tf.keras.Sequential([\n",
        "    base_model,\n",
        "    tf.keras.layers.GlobalAveragePooling2D(),\n",
        "    tf.keras.layers.Dense(1, activation='sigmoid')\n",
        "])\n",
        "\n",
        "#Compilação\n",
        "model.compile(optimizer=tf.keras.optimizers.Adam(learning_rate=0.0001),\n",
        "              loss=tf.keras.losses.BinaryCrossentropy(),\n",
        "              metrics=['accuracy'])\n",
        "\n",
        "model.summary()"
      ],
      "metadata": {
        "id": "bbd1ht7lALKJ"
      },
      "execution_count": null,
      "outputs": []
    },
    {
      "cell_type": "code",
      "source": [
        "#Épocas\n",
        "epochs = 5\n",
        "\n",
        "#Treinamento\n",
        "history = model.fit(train_batches,\n",
        "                    epochs=epochs,\n",
        "                    validation_data=val_batches)"
      ],
      "metadata": {
        "id": "y-yk7RBtALRp"
      },
      "execution_count": null,
      "outputs": []
    },
    {
      "cell_type": "code",
      "source": [
        "#Acurácia e validação do histórico\n",
        "acc = history.history['accuracy']\n",
        "val_acc = history.history['val_accuracy']\n",
        "\n",
        "#Perdas de treino e validação\n",
        "loss = history.history['loss']\n",
        "val_loss = history.history['val_loss']\n",
        "\n",
        "#Gráfico Acurácia\n",
        "plt.figure(figsize=(8, 4))\n",
        "plt.subplot(1, 2, 1)\n",
        "plt.plot(acc, label='Acurácia Treino')\n",
        "plt.plot(val_acc, label='Acurácia Validação')\n",
        "plt.legend()\n",
        "plt.title('Acurácia por Época')\n",
        "\n",
        "#Gráfico Perda\n",
        "plt.subplot(1, 2, 2)\n",
        "plt.plot(loss, label='Perda Treino')\n",
        "plt.plot(val_loss, label='Perda Validação')\n",
        "plt.legend()\n",
        "plt.title('Perda por Época')\n",
        "\n",
        "plt.show()"
      ],
      "metadata": {
        "id": "oJ59hNlgALZG"
      },
      "execution_count": null,
      "outputs": []
    },
    {
      "cell_type": "code",
      "source": [
        "#Teste com Lote de Imagens\n",
        "for image_batch, label_batch in val_batches.take(1):\n",
        "    pass\n",
        "\n",
        "#Previsão\n",
        "predictions = model.predict(image_batch)\n",
        "\n",
        "#Nomes das classes\n",
        "class_names = ['Gato', 'Cachorro']\n",
        "\n",
        "#Quatro imagens x previsões\n",
        "plt.figure(figsize=(10, 10))\n",
        "for i in range(4):\n",
        "    ax = plt.subplot(2, 2, i + 1)\n",
        "\n",
        "    #Imagem para visualização\n",
        "    img_to_show = (image_batch[i].numpy() + 1) / 2.0\n",
        "    plt.imshow(img_to_show)\n",
        "\n",
        "    true_label = class_names[label_batch[i]]\n",
        "\n",
        "    #Previsão < 0.5 = Gato, Previsão >= 0.5 = Cachorro\n",
        "    prediction_score = predictions[i][0]\n",
        "    predicted_label = class_names[int(prediction_score > 0.5)]\n",
        "\n",
        "    plt.title(f\"Real: {true_label}\\nPrevisto: {predicted_label}\")\n",
        "    plt.axis(\"off\")"
      ],
      "metadata": {
        "id": "cx97qWjXALgd"
      },
      "execution_count": null,
      "outputs": []
    },
    {
      "cell_type": "code",
      "source": [],
      "metadata": {
        "id": "kElupzCvALnu"
      },
      "execution_count": null,
      "outputs": []
    },
    {
      "cell_type": "code",
      "source": [],
      "metadata": {
        "id": "_HNVE7eWALuA"
      },
      "execution_count": null,
      "outputs": []
    }
  ]
}